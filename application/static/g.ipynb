{
 "cells": [
  {
   "cell_type": "code",
   "execution_count": 1,
   "metadata": {},
   "outputs": [],
   "source": [
    "import pickle\n",
    "\n",
    "with open(\"./carPrice_GBModel.pkl\", 'rb') as r:\n",
    "    model = pickle.load(r)"
   ]
  },
  {
   "cell_type": "code",
   "execution_count": 2,
   "metadata": {},
   "outputs": [
    {
     "name": "stdout",
     "output_type": "stream",
     "text": [
      "Pipeline(steps=[('preprocessing',\n",
      "                 ColumnTransformer(remainder='passthrough',\n",
      "                                   transformers=[('categorical',\n",
      "                                                  ColumnTransformer(remainder='passthrough',\n",
      "                                                                    transformers=[('oneHotEnc',\n",
      "                                                                                   OneHotEncoder(sparse_output=False),\n",
      "                                                                                   ['aspiration',\n",
      "                                                                                    'carbody',\n",
      "                                                                                    'drivewheel',\n",
      "                                                                                    'enginetype']),\n",
      "                                                                                  ('ordinalEnc',\n",
      "                                                                                   OrdinalEncoder(categories=[['two',\n",
      "                                                                                                               'three',\n",
      "                                                                                                               'four',\n",
      "                                                                                                               'five',\n",
      "                                                                                                               'six',\n",
      "                                                                                                               'eight',\n",
      "                                                                                                               'twelv...\n",
      "                                                                    transformers=[('standardise',\n",
      "                                                                                   StandardScaler(),\n",
      "                                                                                   ['fueleconomy',\n",
      "                                                                                    'carlength',\n",
      "                                                                                    'carwidth',\n",
      "                                                                                    'curbweight',\n",
      "                                                                                    'enginesize',\n",
      "                                                                                    'boreratio',\n",
      "                                                                                    'horsepower',\n",
      "                                                                                    'wheelbase'])]),\n",
      "                                                  ['fueleconomy', 'carlength',\n",
      "                                                   'carwidth', 'curbweight',\n",
      "                                                   'enginesize', 'boreratio',\n",
      "                                                   'horsepower',\n",
      "                                                   'wheelbase'])])),\n",
      "                ('model',\n",
      "                 GradientBoostingRegressor(max_depth=5, max_leaf_nodes=12,\n",
      "                                           n_estimators=200,\n",
      "                                           random_state=42))])\n"
     ]
    }
   ],
   "source": [
    "print(model)"
   ]
  }
 ],
 "metadata": {
  "kernelspec": {
   "display_name": "env",
   "language": "python",
   "name": "python3"
  },
  "language_info": {
   "codemirror_mode": {
    "name": "ipython",
    "version": 3
   },
   "file_extension": ".py",
   "mimetype": "text/x-python",
   "name": "python",
   "nbconvert_exporter": "python",
   "pygments_lexer": "ipython3",
   "version": "3.12.0"
  }
 },
 "nbformat": 4,
 "nbformat_minor": 2
}
